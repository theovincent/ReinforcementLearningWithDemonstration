{
 "cells": [
  {
   "cell_type": "code",
   "execution_count": null,
   "metadata": {},
   "outputs": [],
   "source": [
    "from algorithms.LSTD import lstd"
   ]
  },
  {
   "cell_type": "code",
   "execution_count": 44,
   "metadata": {},
   "outputs": [],
   "source": [
    "lstd_policy = [np.argmax([env.get_feature(state, action) @ w for action in env._actions]) for state in env._states]"
   ]
  },
  {
   "cell_type": "code",
   "execution_count": 49,
   "metadata": {},
   "outputs": [
    {
     "name": "stderr",
     "output_type": "stream",
     "text": [
      "ALSA lib confmisc.c:767:(parse_card) cannot find card '0'\n",
      "ALSA lib conf.c:4745:(_snd_config_evaluate) function snd_func_card_driver returned error: No such file or directory\n",
      "ALSA lib confmisc.c:392:(snd_func_concat) error evaluating strings\n",
      "ALSA lib conf.c:4745:(_snd_config_evaluate) function snd_func_concat returned error: No such file or directory\n",
      "ALSA lib confmisc.c:1246:(snd_func_refer) error evaluating name\n",
      "ALSA lib conf.c:4745:(_snd_config_evaluate) function snd_func_refer returned error: No such file or directory\n",
      "ALSA lib conf.c:5233:(snd_config_expand) Evaluate error: No such file or directory\n",
      "ALSA lib pcm.c:2660:(snd_pcm_open_noupdate) Unknown PCM default\n",
      "ffmpeg version 4.3.3-0+deb11u1 Copyright (c) 2000-2021 the FFmpeg developers\n",
      "  built with gcc 10 (Debian 10.2.1-6)\n",
      "  configuration: --prefix=/usr --extra-version=0+deb11u1 --toolchain=hardened --libdir=/usr/lib/x86_64-linux-gnu --incdir=/usr/include/x86_64-linux-gnu --arch=amd64 --enable-gpl --disable-stripping --enable-avresample --disable-filter=resample --enable-gnutls --enable-ladspa --enable-libaom --enable-libass --enable-libbluray --enable-libbs2b --enable-libcaca --enable-libcdio --enable-libcodec2 --enable-libdav1d --enable-libflite --enable-libfontconfig --enable-libfreetype --enable-libfribidi --enable-libgme --enable-libgsm --enable-libjack --enable-libmp3lame --enable-libmysofa --enable-libopenjpeg --enable-libopenmpt --enable-libopus --enable-libpulse --enable-librabbitmq --enable-librsvg --enable-librubberband --enable-libshine --enable-libsnappy --enable-libsoxr --enable-libspeex --enable-libsrt --enable-libssh --enable-libtheora --enable-libtwolame --enable-libvidstab --enable-libvorbis --enable-libvpx --enable-libwavpack --enable-libwebp --enable-libx265 --enable-libxml2 --enable-libxvid --enable-libzmq --enable-libzvbi --enable-lv2 --enable-omx --enable-openal --enable-opencl --enable-opengl --enable-sdl2 --enable-pocketsphinx --enable-libmfx --enable-libdc1394 --enable-libdrm --enable-libiec61883 --enable-chromaprint --enable-frei0r --enable-libx264 --enable-shared\n",
      "  libavutil      56. 51.100 / 56. 51.100\n",
      "  libavcodec     58. 91.100 / 58. 91.100\n",
      "  libavformat    58. 45.100 / 58. 45.100\n",
      "  libavdevice    58. 10.100 / 58. 10.100\n",
      "  libavfilter     7. 85.100 /  7. 85.100\n",
      "  libavresample   4.  0.  0 /  4.  0.  0\n",
      "  libswscale      5.  7.100 /  5.  7.100\n",
      "  libswresample   3.  7.100 /  3.  7.100\n",
      "  libpostproc    55.  7.100 / 55.  7.100\n",
      "Input #0, rawvideo, from 'pipe:':\n",
      "  Duration: N/A, start: 0.000000, bitrate: 54912 kb/s\n",
      "    Stream #0:0: Video: rawvideo (RGB[24] / 0x18424752), rgb24, 800x572, 54912 kb/s, 5 tbr, 5 tbn, 5 tbc\n",
      "Stream mapping:\n",
      "  Stream #0:0 -> #0:0 (rawvideo (native) -> h264 (libx264))\n",
      "[libx264 @ 0x55805e2a7680] using cpu capabilities: MMX2 SSE2Fast SSSE3 SSE4.2 AVX FMA3 BMI2 AVX2\n",
      "[libx264 @ 0x55805e2a7680] profile High, level 3.1, 4:2:0, 8-bit\n",
      "[libx264 @ 0x55805e2a7680] 264 - core 160 r3011 cde9a93 - H.264/MPEG-4 AVC codec - Copyleft 2003-2020 - http://www.videolan.org/x264.html - options: cabac=1 ref=3 deblock=1:0:0 analyse=0x3:0x113 me=hex subme=7 psy=1 psy_rd=1.00:0.00 mixed_ref=1 me_range=16 chroma_me=1 trellis=1 8x8dct=1 cqm=0 deadzone=21,11 fast_pskip=1 chroma_qp_offset=-2 threads=12 lookahead_threads=2 sliced_threads=0 nr=0 decimate=1 interlaced=0 bluray_compat=0 constrained_intra=0 bframes=3 b_pyramid=2 b_adapt=1 b_bias=0 direct=1 weightb=1 open_gop=0 weightp=2 keyint=250 keyint_min=5 scenecut=40 intra_refresh=0 rc_lookahead=40 rc=crf mbtree=1 crf=23.0 qcomp=0.60 qpmin=0 qpmax=69 qpstep=4 ip_ratio=1.40 aq=1:1.00\n",
      "Output #0, mp4, to 'videos/simple_grid_world/lstd.mp4':\n",
      "  Metadata:\n",
      "    encoder         : Lavf58.45.100\n",
      "    Stream #0:0: Video: h264 (libx264) (avc1 / 0x31637661), yuv420p, 800x572, q=-1--1, 5 fps, 10240 tbn, 5 tbc\n",
      "    Metadata:\n",
      "      encoder         : Lavc58.91.100 libx264\n",
      "    Side data:\n",
      "      cpb: bitrate max/min/avg: 0/0/0 buffer size: 0 vbv_delay: N/A\n",
      "frame=   41 fps=0.0 q=-1.0 Lsize=       8kB time=00:00:07.60 bitrate=   8.3kbits/s speed=14.1x    \n",
      "video:6kB audio:0kB subtitle:0kB other streams:0kB global headers:0kB muxing overhead: 20.021429%\n",
      "[libx264 @ 0x55805e2a7680] frame I:1     Avg QP: 5.52  size:  1518\n",
      "[libx264 @ 0x55805e2a7680] frame P:13    Avg QP:12.03  size:   272\n",
      "[libx264 @ 0x55805e2a7680] frame B:27    Avg QP:11.77  size:    29\n",
      "[libx264 @ 0x55805e2a7680] consecutive B-frames: 12.2%  0.0%  0.0% 87.8%\n",
      "[libx264 @ 0x55805e2a7680] mb I  I16..4: 98.7%  0.1%  1.3%\n",
      "[libx264 @ 0x55805e2a7680] mb P  I16..4:  0.1%  0.3%  0.3%  P16..4:  0.1%  0.0%  0.0%  0.0%  0.0%    skip:99.3%\n",
      "[libx264 @ 0x55805e2a7680] mb B  I16..4:  0.0%  0.0%  0.0%  B16..8:  0.1%  0.0%  0.0%  direct: 0.0%  skip:99.9%  L0:27.5% L1:72.5% BI: 0.0%\n",
      "[libx264 @ 0x55805e2a7680] 8x8 transform intra:3.8% inter:0.0%\n",
      "[libx264 @ 0x55805e2a7680] coded y,uvDC,uvAC intra: 2.1% 5.0% 4.6% inter: 0.0% 0.0% 0.0%\n",
      "[libx264 @ 0x55805e2a7680] i16 v,h,dc,p: 96%  1%  3%  0%\n",
      "[libx264 @ 0x55805e2a7680] i8 v,h,dc,ddl,ddr,vr,hd,vl,hu:  4%  1% 94%  1%  0%  0%  0%  0%  0%\n",
      "[libx264 @ 0x55805e2a7680] i4 v,h,dc,ddl,ddr,vr,hd,vl,hu: 18% 14% 49%  8%  8%  1%  0%  1%  0%\n",
      "[libx264 @ 0x55805e2a7680] i8c dc,h,v,p: 89%  7%  4%  0%\n",
      "[libx264 @ 0x55805e2a7680] Weighted P-Frames: Y:0.0% UV:0.0%\n",
      "[libx264 @ 0x55805e2a7680] ref P L0: 76.5%  0.0% 23.5%\n",
      "[libx264 @ 0x55805e2a7680] ref B L0: 26.3% 73.7%\n",
      "[libx264 @ 0x55805e2a7680] ref B L1: 96.0%  4.0%\n",
      "[libx264 @ 0x55805e2a7680] kb/s:5.70\n"
     ]
    }
   ],
   "source": [
    "from simulators.grid_world.grid_world import simulate_policy\n",
    "\n",
    "simulate_policy(lstd_policy, \"../videos/simple_grid_world/lstd.mp4\", env, 40)"
   ]
  }
 ],
 "metadata": {
  "interpreter": {
   "hash": "5f758ad8e5e9cb73d1ab62c182866944e1d4dbba00f99109599dd23e4b5a5cd7"
  },
  "kernelspec": {
   "display_name": "Python 3.10.1 64-bit ('env_container': venv)",
   "language": "python",
   "name": "python3"
  },
  "language_info": {
   "codemirror_mode": {
    "name": "ipython",
    "version": 3
   },
   "file_extension": ".py",
   "mimetype": "text/x-python",
   "name": "python",
   "nbconvert_exporter": "python",
   "pygments_lexer": "ipython3",
   "version": "3.10.1"
  },
  "orig_nbformat": 4
 },
 "nbformat": 4,
 "nbformat_minor": 2
}
