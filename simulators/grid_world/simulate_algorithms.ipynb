{
 "cells": [
  {
   "cell_type": "markdown",
   "metadata": {},
   "source": [
    "## Setup environment"
   ]
  },
  {
   "cell_type": "code",
   "execution_count": 2,
   "metadata": {},
   "outputs": [],
   "source": [
    "import matplotlib.pyplot as plt\n",
    "\n",
    "from simulators.grid_world.grid_world import SimpleGridWorld, simulate_policy\n",
    "from simulators.grid_world import GAMMA, HORIZON\n",
    "\n",
    "simple_env = SimpleGridWorld()"
   ]
  },
  {
   "cell_type": "code",
   "execution_count": 4,
   "metadata": {},
   "outputs": [
    {
     "data": {
      "image/png": "[encoded data removed]",
      "text/plain": [
       "<Figure size 432x288 with 1 Axes>"
      ]
     },
     "metadata": {
      "needs_background": "light"
     },
     "output_type": "display_data"
    }
   ],
   "source": [
    "from algorithms.VI_dynamic_programming import value_iteration\n",
    "\n",
    "Q_expert, expert_policy = value_iteration(simple_env.P, simple_env.R, GAMMA)\n",
    "\n",
    "# Uncomment if you want to simulate the policy\n",
    "# simulate_policy(expert_policy, \"../../videos/simple_grid_world/expert.mp4\", simple_env, HORIZON)\n",
    "\n",
    "V_expert = Q_expert.max(axis=1)\n",
    "img = simple_env.get_layout_img(V_expert)    \n",
    "plt.imshow(img)\n",
    "plt.show()"
   ]
  },
  {
   "cell_type": "code",
   "execution_count": 8,
   "metadata": {},
   "outputs": [],
   "source": [
    "import numpy as np\n",
    "\n",
    "\n",
    "class ReplayBuffer:\n",
    "    def __init__(self, env, epsilon_decay, gamma, regularisor_bellmann):\n",
    "        self.env = env\n",
    "        self.epsilon_decay = epsilon_decay\n",
    "        self.gamma = gamma\n",
    "        self.regularisor_bellmann = regularisor_bellmann\n",
    "\n",
    "        self.size_feature = env.get_feature(0, 0).shape[0]\n",
    "\n",
    "        self.buffer = []\n",
    "\n",
    "        self.A = None  # Grad matrix\n",
    "        self.b = None  # Grad matrix\n",
    "\n",
    "    def collect_samples(self, n_samples, w, trajectory):\n",
    "        state = self.env.initial_state_distribution\n",
    "\n",
    "        self.env.reset()\n",
    "        terminal = False\n",
    "\n",
    "        for idx_sample in range(n_samples):\n",
    "            if not trajectory:\n",
    "                state = np.random.choice(self.env._states)\n",
    "\n",
    "                while self.env.is_terminal(state):\n",
    "                    state = np.random.choice(self.env._states)\n",
    "\n",
    "                self.env.state = state\n",
    "            elif terminal:  # Trajectory case\n",
    "                self.env.reset()\n",
    "\n",
    "            # Policy improvement\n",
    "            if np.random.random() < self.epsilon_decay(len(self.buffer)):\n",
    "                action = np.random.choice(self.env._actions)\n",
    "            else:\n",
    "                action = np.argmax([self.env.get_feature(state, action) @ w for action in self.env._actions])\n",
    "\n",
    "            next_state, reward, terminal, _ = self.env.step(action)\n",
    "            next_action = np.argmax([self.env.get_feature(next_state, action) @ w for action in self.env._actions])\n",
    "\n",
    "            self.buffer.append((state, action, reward, next_state, next_action))\n",
    "            state = next_state\n",
    "\n",
    "    def compute_grad_matrices(self):\n",
    "        features = np.zeros((len(self.buffer), self.size_feature))\n",
    "        next_features = np.zeros((len(self.buffer), self.size_feature))\n",
    "        rewards = np.zeros(len(self.buffer))\n",
    "\n",
    "        for idx_sample, (state, action, reward, next_state, next_action) in enumerate(self.buffer):\n",
    "            features[idx_sample] = self.env.get_feature(state, action)\n",
    "            next_features[idx_sample] = self.env.get_feature(next_state, next_action)\n",
    "            rewards[idx_sample] = reward\n",
    "\n",
    "        inverse_matrix = np.linalg.inv(\n",
    "            features.T @ features + self.regularisor_bellmann * len(self.buffer) * np.eye(self.size_feature)\n",
    "        )\n",
    "\n",
    "        self.A = np.eye(self.size_feature) - self.gamma * inverse_matrix @ features.T @ next_features\n",
    "        self.b = inverse_matrix @ features.T @ rewards\n",
    "\n",
    "\n",
    "def lstd(env, n_samples_per_iteration, regularisor, regularisor_bellmann, trajectory=False, max_iteration=10, tol=1e-1):\n",
    "    from algorithms.epsilon_greedy import epsilon_decay\n",
    "    from simulators.grid_world import GAMMA\n",
    "\n",
    "    replay_buffer = ReplayBuffer(env, epsilon_decay, GAMMA, regularisor_bellmann)\n",
    "\n",
    "    w = np.random.random(replay_buffer.size_feature)\n",
    "\n",
    "    for iteration in range(max_iteration):\n",
    "        # Exploration\n",
    "        replay_buffer.collect_samples(n_samples_per_iteration, w, trajectory)\n",
    "        replay_buffer.compute_grad_matrices()\n",
    "\n",
    "        # Evaluation\n",
    "        grad = float(\"inf\") * np.ones(w.shape)\n",
    "\n",
    "        while np.linalg.norm(grad) < tol:\n",
    "            grad = np.zeros(w.shape)\n",
    "\n",
    "            for sample in replay_buffer.buffer:\n",
    "                feature = env.get_feature(sample[0])\n",
    "                grad += feature.T @ (replay_buffer.A @ w + replay_buffer.b) @ replay_buffer.A.T @ feature\n",
    "\n",
    "            grad = grad / len(replay_buffer.buffer) + regularisor * w\n",
    "\n",
    "            w -= regularisor * grad\n",
    "\n",
    "        # Improvement\n",
    "        # Done when samples are collected.\n",
    "\n",
    "    Q = np.zeros((env.S, env.A))\n",
    "\n",
    "    for state in env._states:\n",
    "        for action in env._actions:\n",
    "            Q[state, action] = env.get_feature(state, action) @ w\n",
    "\n",
    "    return Q, np.argmax(Q, axis=1)"
   ]
  },
  {
   "cell_type": "code",
   "execution_count": 15,
   "metadata": {},
   "outputs": [
    {
     "data": {
      "image/png": "[encoded data removed]",
      "text/plain": [
       "<Figure size 432x288 with 1 Axes>"
      ]
     },
     "metadata": {
      "needs_background": "light"
     },
     "output_type": "display_data"
    }
   ],
   "source": [
    "# from algorithms.LSTD import lstd\n",
    "\n",
    "n_samples_per_iteration = 100\n",
    "regularisor = 0.1\n",
    "regularisor_bellmann = 0.1\n",
    "max_iteration = 10\n",
    "trajectory = False\n",
    "\n",
    "Q_lstd, lstd_policy = lstd(simple_env, n_samples_per_iteration, regularisor, regularisor_bellmann, trajectory=trajectory, max_iteration=max_iteration, tol=1e-5)\n",
    "\n",
    "# Uncomment if you want to simulate the policy\n",
    "# simulate_policy(lstd_policy, \"../../videos/simple_grid_world/lstd.mp4\", simple_env, HORIZON)\n",
    "\n",
    "V_lstd = Q_lstd.max(axis=1)\n",
    "img = simple_env.get_layout_img(V_lstd)    \n",
    "plt.imshow(img)\n",
    "plt.show()\n"
   ]
  }
 ],
 "metadata": {
  "interpreter": {
   "hash": "5f758ad8e5e9cb73d1ab62c182866944e1d4dbba00f99109599dd23e4b5a5cd7"
  },
  "kernelspec": {
   "display_name": "Python 3.10.1 64-bit ('env_container': venv)",
   "language": "python",
   "name": "python3"
  },
  "language_info": {
   "codemirror_mode": {
    "name": "ipython",
    "version": 3
   },
   "file_extension": ".py",
   "mimetype": "text/x-python",
   "name": "python",
   "nbconvert_exporter": "python",
   "pygments_lexer": "ipython3",
   "version": "3.10.1"
  },
  "orig_nbformat": 4
 },
 "nbformat": 4,
 "nbformat_minor": 2
}
