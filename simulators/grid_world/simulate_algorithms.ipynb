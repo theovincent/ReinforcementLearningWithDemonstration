{
 "cells": [
  {
   "cell_type": "markdown",
   "metadata": {},
   "source": [
    "## Setup environment"
   ]
  },
  {
   "cell_type": "code",
   "execution_count": 4,
   "metadata": {},
   "outputs": [],
   "source": [
    "import matplotlib.pyplot as plt\n",
    "\n",
    "from simulators.grid_world.grid_world import SimpleGridWorld, simulate_policy\n",
    "from simulators.grid_world import GAMMA, HORIZON\n",
    "\n",
    "simple_env = SimpleGridWorld()"
   ]
  },
  {
   "cell_type": "code",
   "execution_count": 5,
   "metadata": {},
   "outputs": [
    {
     "data": {
      "image/png": "[encoded data removed]",
      "text/plain": [
       "<Figure size 432x288 with 1 Axes>"
      ]
     },
     "metadata": {
      "needs_background": "light"
     },
     "output_type": "display_data"
    }
   ],
   "source": [
    "from algorithms.VI_dynamic_programming import value_iteration\n",
    "\n",
    "Q_expert, expert_policy = value_iteration(simple_env.P, simple_env.R, GAMMA)\n",
    "\n",
    "# Uncomment if you want to simulate the policy\n",
    "# simulate_policy(expert_policy, \"../../videos/simple_grid_world/expert.mp4\", simple_env, HORIZON)\n",
    "\n",
    "V_expert = Q_expert.max(axis=1)\n",
    "img = simple_env.get_layout_img(V_expert)    \n",
    "plt.imshow(img)\n",
    "plt.show()"
   ]
  },
  {
   "cell_type": "code",
   "execution_count": 14,
   "metadata": {},
   "outputs": [
    {
     "data": {
      "text/plain": [
       "0"
      ]
     },
     "execution_count": 14,
     "metadata": {},
     "output_type": "execute_result"
    }
   ],
   "source": [
    "np.argmin(V_expert)"
   ]
  },
  {
   "cell_type": "code",
   "execution_count": 15,
   "metadata": {},
   "outputs": [],
   "source": [
    "import numpy as np\n",
    "import matplotlib.pyplot as plt\n",
    "\n",
    "\n",
    "class ReplayBuffer:\n",
    "    def __init__(self, env, epsilon_decay, gamma, regularisor_bellmann):\n",
    "        self.env = env\n",
    "        self.epsilon_decay = epsilon_decay\n",
    "        self.gamma = gamma\n",
    "        self.regularisor_bellmann = regularisor_bellmann\n",
    "\n",
    "        self.size_feature = env.get_feature(0, 0).shape[0]\n",
    "\n",
    "        self.buffer = []\n",
    "\n",
    "        self.A = None  # Grad matrix\n",
    "        self.b = None  # Grad matrix\n",
    "\n",
    "    def collect_samples(self, n_samples, w, trajectory):\n",
    "        state = self.env.initial_state_distribution\n",
    "\n",
    "        self.env.reset()\n",
    "        terminal = False\n",
    "\n",
    "        for idx_sample in range(n_samples):\n",
    "            if not trajectory:\n",
    "                state = np.random.choice(self.env._states)\n",
    "                self.env.state = state\n",
    "            elif terminal:  # Trajectory case\n",
    "                self.env.reset()\n",
    "\n",
    "            # Policy improvement\n",
    "            if np.random.random() < self.epsilon_decay(len(self.buffer)):\n",
    "                action = np.random.choice(self.env._actions)\n",
    "            else:\n",
    "                action = np.argmax([self.env.get_feature(state, action) @ w for action in self.env._actions])\n",
    "\n",
    "            next_state, reward, terminal, _ = self.env.step(action)\n",
    "            next_action = np.argmax([self.env.get_feature(next_state, action) @ w for action in self.env._actions])\n",
    "\n",
    "            self.buffer.append((state, action, reward, next_state, next_action))\n",
    "            state = next_state\n",
    "\n",
    "    def compute_grad_matrices(self):\n",
    "        features = np.zeros((len(self.buffer), self.size_feature))\n",
    "        next_features = np.zeros((len(self.buffer), self.size_feature))\n",
    "        rewards = np.zeros(len(self.buffer))\n",
    "\n",
    "        for idx_sample, (state, action, reward, next_state, next_action) in enumerate(self.buffer):\n",
    "            features[idx_sample] = self.env.get_feature(state, action)\n",
    "            next_features[idx_sample] = self.env.get_feature(next_state, next_action)\n",
    "            rewards[idx_sample] = reward\n",
    "\n",
    "        inverse_matrix = np.linalg.inv(\n",
    "            features.T @ features + self.regularisor_bellmann * len(self.buffer) * np.eye(self.size_feature)\n",
    "        )\n",
    "        print(\"Sum rewards:\", sum(rewards))\n",
    "        self.A = np.eye(self.size_feature) - self.gamma * inverse_matrix @ features.T @ next_features\n",
    "        self.b = inverse_matrix @ features.T @ rewards\n",
    "\n",
    "    def statistics_on_samples(self):\n",
    "        plt.figure()\n",
    "        number_occurences = np.zeros(self.env.S)\n",
    "\n",
    "        for (state, _, _, _, _) in self.buffer[-500:]:\n",
    "            number_occurences[state] += 1\n",
    "  \n",
    "        img = self.env.get_layout_img(number_occurences)  \n",
    "        print(\"Number of sample on terminal state:\", number_occurences[5])  \n",
    "        plt.title(\"Statistics on occurences\")\n",
    "        plt.imshow(img)\n",
    "        plt.show()      \n",
    "\n",
    "\n",
    "def show_intermediate_result(env, w):\n",
    "    plt.figure()\n",
    "    Q = np.zeros((env.S, env.A))\n",
    "\n",
    "    for state in env._states:\n",
    "        for action in env._actions:\n",
    "            Q[state, action] = env.get_feature(state, action) @ w\n",
    "    \n",
    "    V = Q.max(axis=1)\n",
    "    \n",
    "    print(\"Value function on terminal node:\", V[5])\n",
    "    print(\"Value function on initial node:\", V[0])\n",
    "    img = env.get_layout_img(V)    \n",
    "    plt.imshow(img)\n",
    "    plt.show()\n",
    "\n",
    "\n",
    "def lstd(env, n_samples_per_iteration, regularisor, regularisor_bellmann, learning_rate=0.001, trajectory=False, max_iteration=10, tol=1e-1):\n",
    "    from algorithms.epsilon_greedy import epsilon_decay\n",
    "    from simulators.grid_world import GAMMA\n",
    "\n",
    "    replay_buffer = ReplayBuffer(env, epsilon_decay, GAMMA, regularisor_bellmann)\n",
    "\n",
    "    w = np.random.random(replay_buffer.size_feature)\n",
    "\n",
    "    for iteration in range(max_iteration):\n",
    "        # Exploration\n",
    "        replay_buffer.collect_samples(n_samples_per_iteration, w, trajectory)\n",
    "        replay_buffer.statistics_on_samples()\n",
    "        replay_buffer.compute_grad_matrices()\n",
    "\n",
    "        # Evaluation\n",
    "        grad = float(\"inf\") * np.ones(w.shape)\n",
    "\n",
    "        while np.linalg.norm(grad) > tol:\n",
    "            grad = np.zeros(w.shape)\n",
    "\n",
    "            for sample in replay_buffer.buffer:\n",
    "                feature = env.get_feature(sample[0], sample[1])\n",
    "                grad += (feature.T @ (replay_buffer.A @ w - replay_buffer.b)) * (replay_buffer.A.T @ feature)\n",
    "\n",
    "            grad = grad / len(replay_buffer.buffer) + regularisor * w\n",
    "\n",
    "            w -= learning_rate * grad\n",
    "\n",
    "        # Improvement\n",
    "        # Done when samples are collected.\n",
    "\n",
    "        show_intermediate_result(env, w)\n",
    "\n",
    "    Q = np.zeros((env.S, env.A))\n",
    "\n",
    "    for state in env._states:\n",
    "        for action in env._actions:\n",
    "            Q[state, action] = env.get_feature(state, action) @ w\n",
    "\n",
    "    return Q, np.argmax(Q, axis=1)"
   ]
  },
  {
   "cell_type": "code",
   "execution_count": 16,
   "metadata": {},
   "outputs": [
    {
     "name": "stdout",
     "output_type": "stream",
     "text": [
      "Number of sample on terminal state: 8.0\n"
     ]
    },
    {
     "data": {
      "image/png": "[encoded data removed]",
      "text/plain": [
       "<Figure size 432x288 with 1 Axes>"
      ]
     },
     "metadata": {
      "needs_background": "light"
     },
     "output_type": "display_data"
    },
    {
     "name": "stdout",
     "output_type": "stream",
     "text": [
      "Sum rewards: 8.0\n",
      "Value function on terminal node: 0.4003068205766261\n",
      "Value function on initial node: 0.06234603496663935\n"
     ]
    },
    {
     "data": {
      "image/png": "[encoded data removed]",
      "text/plain": [
       "<Figure size 432x288 with 1 Axes>"
      ]
     },
     "metadata": {
      "needs_background": "light"
     },
     "output_type": "display_data"
    },
    {
     "name": "stdout",
     "output_type": "stream",
     "text": [
      "Number of sample on terminal state: 20.0\n"
     ]
    },
    {
     "data": {
      "image/png": "[encoded data removed]",
      "text/plain": [
       "<Figure size 432x288 with 1 Axes>"
      ]
     },
     "metadata": {
      "needs_background": "light"
     },
     "output_type": "display_data"
    },
    {
     "name": "stdout",
     "output_type": "stream",
     "text": [
      "Sum rewards: 28.0\n",
      "Value function on terminal node: 0.6252737691559987\n",
      "Value function on initial node: 0.09413949078207764\n"
     ]
    },
    {
     "data": {
      "image/png": "[encoded data removed]",
      "text/plain": [
       "<Figure size 432x288 with 1 Axes>"
      ]
     },
     "metadata": {
      "needs_background": "light"
     },
     "output_type": "display_data"
    },
    {
     "name": "stdout",
     "output_type": "stream",
     "text": [
      "Number of sample on terminal state: 14.0\n"
     ]
    },
    {
     "data": {
      "image/png": "[encoded data removed]",
      "text/plain": [
       "<Figure size 432x288 with 1 Axes>"
      ]
     },
     "metadata": {
      "needs_background": "light"
     },
     "output_type": "display_data"
    },
    {
     "name": "stdout",
     "output_type": "stream",
     "text": [
      "Sum rewards: 42.0\n",
      "Value function on terminal node: 0.6355480877373794\n",
      "Value function on initial node: 0.10495162059653412\n"
     ]
    },
    {
     "data": {
      "image/png": "[encoded data removed]",
      "text/plain": [
       "<Figure size 432x288 with 1 Axes>"
      ]
     },
     "metadata": {
      "needs_background": "light"
     },
     "output_type": "display_data"
    },
    {
     "name": "stdout",
     "output_type": "stream",
     "text": [
      "Number of sample on terminal state: 16.0\n"
     ]
    },
    {
     "data": {
      "image/png": "[encoded data removed]",
      "text/plain": [
       "<Figure size 432x288 with 1 Axes>"
      ]
     },
     "metadata": {
      "needs_background": "light"
     },
     "output_type": "display_data"
    },
    {
     "name": "stdout",
     "output_type": "stream",
     "text": [
      "Sum rewards: 58.0\n",
      "Value function on terminal node: 0.6588245925016528\n",
      "Value function on initial node: 0.11453534364750227\n"
     ]
    },
    {
     "data": {
      "image/png": "[encoded data removed]",
      "text/plain": [
       "<Figure size 432x288 with 1 Axes>"
      ]
     },
     "metadata": {
      "needs_background": "light"
     },
     "output_type": "display_data"
    },
    {
     "name": "stdout",
     "output_type": "stream",
     "text": [
      "Number of sample on terminal state: 13.0\n"
     ]
    },
    {
     "data": {
      "image/png": "[encoded data removed]",
      "text/plain": [
       "<Figure size 432x288 with 1 Axes>"
      ]
     },
     "metadata": {
      "needs_background": "light"
     },
     "output_type": "display_data"
    },
    {
     "name": "stdout",
     "output_type": "stream",
     "text": [
      "Sum rewards: 71.0\n",
      "Value function on terminal node: 0.6514326827550978\n",
      "Value function on initial node: 0.11535067141424254\n"
     ]
    },
    {
     "data": {
      "image/png": "[encoded data removed]",
      "text/plain": [
       "<Figure size 432x288 with 1 Axes>"
      ]
     },
     "metadata": {
      "needs_background": "light"
     },
     "output_type": "display_data"
    }
   ],
   "source": [
    "# from algorithms.LSTD import lstd\n",
    "\n",
    "n_samples_per_iteration = 500\n",
    "regularisor = 0.01\n",
    "regularisor_bellmann = 0.01\n",
    "max_iteration = 5\n",
    "trajectory = False\n",
    "tol = 1e-6\n",
    "learning_rate = 1\n",
    "\n",
    "Q_lstd, lstd_policy = lstd(simple_env, n_samples_per_iteration, regularisor, regularisor_bellmann, learning_rate=learning_rate, trajectory=trajectory, max_iteration=max_iteration, tol=tol)\n",
    "\n",
    "# Uncomment if you want to simulate the policy\n",
    "# simulate_policy(lstd_policy, \"../../videos/simple_grid_world/lstd.mp4\", simple_env, HORIZON)"
   ]
  },
  {
   "cell_type": "code",
   "execution_count": 34,
   "metadata": {},
   "outputs": [
    {
     "data": {
      "text/plain": [
       "array([[ 1.15350671e-01, -3.74801876e-04, -6.88403427e-03,\n",
       "         1.14591793e-02],\n",
       "       [ 1.16752517e-01,  1.02704366e-03, -5.48218873e-03,\n",
       "         1.28610248e-02],\n",
       "       [ 1.18107969e-01,  2.38249575e-03, -4.12673665e-03,\n",
       "         1.42164769e-02],\n",
       "       [ 1.17577790e-01,  1.85231687e-03, -4.65691552e-03,\n",
       "         1.36862980e-02],\n",
       "       [ 1.19835776e-01,  4.11030240e-03, -2.39892999e-03,\n",
       "         1.59442835e-02],\n",
       "       [ 6.51432683e-01,  5.35707209e-01,  5.29197977e-01,\n",
       "         5.47541191e-01],\n",
       "       [ 1.14709143e-01, -1.01633033e-03, -7.52556272e-03,\n",
       "         1.08176508e-02],\n",
       "       [ 1.16193724e-01,  4.68250927e-04, -6.04098147e-03,\n",
       "         1.23022321e-02],\n",
       "       [ 1.18740183e-01,  3.01470956e-03, -3.49452283e-03,\n",
       "         1.48486907e-02],\n",
       "       [ 1.19345919e-01,  3.62044574e-03, -2.88878666e-03,\n",
       "         1.54544269e-02],\n",
       "       [ 1.17077866e-01,  1.35239292e-03, -5.15683948e-03,\n",
       "         1.31863740e-02],\n",
       "       [ 1.17876871e-01,  2.15139764e-03, -4.35783475e-03,\n",
       "         1.39853788e-02],\n",
       "       [ 1.16207127e-01,  4.81653548e-04, -6.02757884e-03,\n",
       "         1.23156347e-02],\n",
       "       [ 1.16009936e-01,  2.84462343e-04, -6.22477005e-03,\n",
       "         1.21184435e-02],\n",
       "       [ 1.15920022e-01,  1.94548797e-04, -6.31468360e-03,\n",
       "         1.20285299e-02],\n",
       "       [ 1.16796268e-01,  1.07079495e-03, -5.43843744e-03,\n",
       "         1.29047761e-02],\n",
       "       [ 1.18196009e-01,  2.47053527e-03, -4.03869712e-03,\n",
       "         1.43045164e-02],\n",
       "       [ 1.17594873e-01,  1.86939986e-03, -4.63983253e-03,\n",
       "         1.37033810e-02],\n",
       "       [ 1.12713834e-01, -3.01163966e-03, -9.52087205e-03,\n",
       "         8.82234147e-03],\n",
       "       [ 1.17371956e-01,  1.64648242e-03, -4.86274998e-03,\n",
       "         1.34804635e-02],\n",
       "       [ 1.18901142e-01,  3.17566903e-03, -3.33356337e-03,\n",
       "         1.50096502e-02],\n",
       "       [ 1.18439760e-01,  2.71428635e-03, -3.79494604e-03,\n",
       "         1.45482675e-02],\n",
       "       [ 1.16441904e-01,  7.16431082e-04, -5.79280131e-03,\n",
       "         1.25504122e-02],\n",
       "       [ 1.18889154e-01,  3.16368078e-03, -3.34555161e-03,\n",
       "         1.49976619e-02],\n",
       "       [ 1.15009201e-01, -7.16271829e-04, -7.22550422e-03,\n",
       "         1.11177093e-02],\n",
       "       [ 1.14780251e-01, -9.45222422e-04, -7.45445481e-03,\n",
       "         1.08887587e-02],\n",
       "       [ 1.16105452e-01,  3.79979110e-04, -6.12925328e-03,\n",
       "         1.22139602e-02],\n",
       "       [ 1.17989614e-01,  2.26414098e-03, -4.24509141e-03,\n",
       "         1.40981221e-02],\n",
       "       [ 1.17814828e-01,  2.08935422e-03, -4.41987817e-03,\n",
       "         1.39233353e-02],\n",
       "       [ 1.18721230e-01,  2.99575668e-03, -3.51347572e-03,\n",
       "         1.48297378e-02],\n",
       "       [ 1.18923963e-01,  3.19848954e-03, -3.31074285e-03,\n",
       "         1.50324707e-02]])"
      ]
     },
     "execution_count": 34,
     "metadata": {},
     "output_type": "execute_result"
    }
   ],
   "source": [
    "Q_lstd"
   ]
  },
  {
   "cell_type": "code",
   "execution_count": 18,
   "metadata": {},
   "outputs": [
    {
     "name": "stderr",
     "output_type": "stream",
     "text": [
      "ALSA lib confmisc.c:767:(parse_card) cannot find card '0'\n",
      "ALSA lib conf.c:4745:(_snd_config_evaluate) function snd_func_card_driver returned error: No such file or directory\n",
      "ALSA lib confmisc.c:392:(snd_func_concat) error evaluating strings\n",
      "ALSA lib conf.c:4745:(_snd_config_evaluate) function snd_func_concat returned error: No such file or directory\n",
      "ALSA lib confmisc.c:1246:(snd_func_refer) error evaluating name\n",
      "ALSA lib conf.c:4745:(_snd_config_evaluate) function snd_func_refer returned error: No such file or directory\n",
      "ALSA lib conf.c:5233:(snd_config_expand) Evaluate error: No such file or directory\n",
      "ALSA lib pcm.c:2660:(snd_pcm_open_noupdate) Unknown PCM default\n",
      "ffmpeg version 4.3.3-0+deb11u1 Copyright (c) 2000-2021 the FFmpeg developers\n",
      "  built with gcc 10 (Debian 10.2.1-6)\n",
      "  configuration: --prefix=/usr --extra-version=0+deb11u1 --toolchain=hardened --libdir=/usr/lib/x86_64-linux-gnu --incdir=/usr/include/x86_64-linux-gnu --arch=amd64 --enable-gpl --disable-stripping --enable-avresample --disable-filter=resample --enable-gnutls --enable-ladspa --enable-libaom --enable-libass --enable-libbluray --enable-libbs2b --enable-libcaca --enable-libcdio --enable-libcodec2 --enable-libdav1d --enable-libflite --enable-libfontconfig --enable-libfreetype --enable-libfribidi --enable-libgme --enable-libgsm --enable-libjack --enable-libmp3lame --enable-libmysofa --enable-libopenjpeg --enable-libopenmpt --enable-libopus --enable-libpulse --enable-librabbitmq --enable-librsvg --enable-librubberband --enable-libshine --enable-libsnappy --enable-libsoxr --enable-libspeex --enable-libsrt --enable-libssh --enable-libtheora --enable-libtwolame --enable-libvidstab --enable-libvorbis --enable-libvpx --enable-libwavpack --enable-libwebp --enable-libx265 --enable-libxml2 --enable-libxvid --enable-libzmq --enable-libzvbi --enable-lv2 --enable-omx --enable-openal --enable-opencl --enable-opengl --enable-sdl2 --enable-pocketsphinx --enable-libmfx --enable-libdc1394 --enable-libdrm --enable-libiec61883 --enable-chromaprint --enable-frei0r --enable-libx264 --enable-shared\n",
      "  libavutil      56. 51.100 / 56. 51.100\n",
      "  libavcodec     58. 91.100 / 58. 91.100\n",
      "  libavformat    58. 45.100 / 58. 45.100\n",
      "  libavdevice    58. 10.100 / 58. 10.100\n",
      "  libavfilter     7. 85.100 /  7. 85.100\n",
      "  libavresample   4.  0.  0 /  4.  0.  0\n",
      "  libswscale      5.  7.100 /  5.  7.100\n",
      "  libswresample   3.  7.100 /  3.  7.100\n",
      "  libpostproc    55.  7.100 / 55.  7.100\n",
      "Input #0, rawvideo, from 'pipe:':\n",
      "  Duration: N/A, start: 0.000000, bitrate: 54912 kb/s\n",
      "    Stream #0:0: Video: rawvideo (RGB[24] / 0x18424752), rgb24, 800x572, 54912 kb/s, 5 tbr, 5 tbn, 5 tbc\n",
      "Stream mapping:\n",
      "  Stream #0:0 -> #0:0 (rawvideo (native) -> h264 (libx264))\n",
      "[libx264 @ 0x564e9d1eb680] using cpu capabilities: MMX2 SSE2Fast SSSE3 SSE4.2 AVX FMA3 BMI2 AVX2\n",
      "[libx264 @ 0x564e9d1eb680] profile High, level 3.1, 4:2:0, 8-bit\n",
      "[libx264 @ 0x564e9d1eb680] 264 - core 160 r3011 cde9a93 - H.264/MPEG-4 AVC codec - Copyleft 2003-2020 - http://www.videolan.org/x264.html - options: cabac=1 ref=3 deblock=1:0:0 analyse=0x3:0x113 me=hex subme=7 psy=1 psy_rd=1.00:0.00 mixed_ref=1 me_range=16 chroma_me=1 trellis=1 8x8dct=1 cqm=0 deadzone=21,11 fast_pskip=1 chroma_qp_offset=-2 threads=12 lookahead_threads=2 sliced_threads=0 nr=0 decimate=1 interlaced=0 bluray_compat=0 constrained_intra=0 bframes=3 b_pyramid=2 b_adapt=1 b_bias=0 direct=1 weightb=1 open_gop=0 weightp=2 keyint=250 keyint_min=5 scenecut=40 intra_refresh=0 rc_lookahead=40 rc=crf mbtree=1 crf=23.0 qcomp=0.60 qpmin=0 qpmax=69 qpstep=4 ip_ratio=1.40 aq=1:1.00\n",
      "Output #0, mp4, to '../../videos/simple_grid_world/lstd.mp4':\n",
      "  Metadata:\n",
      "    encoder         : Lavf58.45.100\n",
      "    Stream #0:0: Video: h264 (libx264) (avc1 / 0x31637661), yuv420p, 800x572, q=-1--1, 5 fps, 10240 tbn, 5 tbc\n",
      "    Metadata:\n",
      "      encoder         : Lavc58.91.100 libx264\n",
      "    Side data:\n",
      "      cpb: bitrate max/min/avg: 0/0/0 buffer size: 0 vbv_delay: N/A\n",
      "frame=   51 fps=0.0 q=-1.0 Lsize=       5kB time=00:00:09.60 bitrate=   4.6kbits/s speed=14.9x    \n",
      "video:4kB audio:0kB subtitle:0kB other streams:0kB global headers:0kB muxing overhead: 36.056618%\n",
      "[libx264 @ 0x564e9d1eb680] frame I:1     Avg QP: 3.43  size:  1852\n",
      "[libx264 @ 0x564e9d1eb680] frame P:13    Avg QP: 8.05  size:    41\n",
      "[libx264 @ 0x564e9d1eb680] frame B:37    Avg QP:11.35  size:    26\n",
      "[libx264 @ 0x564e9d1eb680] consecutive B-frames:  2.0%  3.9%  0.0% 94.1%\n",
      "[libx264 @ 0x564e9d1eb680] mb I  I16..4: 98.7%  0.0%  1.3%\n",
      "[libx264 @ 0x564e9d1eb680] mb P  I16..4:  0.0%  0.0%  0.0%  P16..4:  0.0%  0.0%  0.0%  0.0%  0.0%    skip:100.0%\n",
      "[libx264 @ 0x564e9d1eb680] mb B  I16..4:  0.0%  0.0%  0.0%  B16..8:  0.0%  0.0%  0.0%  direct: 0.0%  skip:100.0%  L0: 0.0% L1:100.0% BI: 0.0%\n",
      "[libx264 @ 0x564e9d1eb680] 8x8 transform intra:0.0% inter:0.0%\n",
      "[libx264 @ 0x564e9d1eb680] coded y,uvDC,uvAC intra: 0.6% 1.9% 1.7% inter: 0.0% 0.0% 0.0%\n",
      "[libx264 @ 0x564e9d1eb680] i16 v,h,dc,p: 96%  1%  3%  0%\n",
      "[libx264 @ 0x564e9d1eb680] i4 v,h,dc,ddl,ddr,vr,hd,vl,hu: 12% 17% 52%  6%  5%  4%  0%  4%  0%\n",
      "[libx264 @ 0x564e9d1eb680] i8c dc,h,v,p: 90%  6%  3%  0%\n",
      "[libx264 @ 0x564e9d1eb680] Weighted P-Frames: Y:0.0% UV:0.0%\n",
      "[libx264 @ 0x564e9d1eb680] ref B L1: 85.7% 14.3%\n",
      "[libx264 @ 0x564e9d1eb680] kb/s:2.62\n"
     ]
    },
    {
     "data": {
      "image/png": "[encoded data removed]",
      "text/plain": [
       "<Figure size 432x288 with 1 Axes>"
      ]
     },
     "metadata": {
      "needs_background": "light"
     },
     "output_type": "display_data"
    }
   ],
   "source": [
    "# simulate_policy(lstd_policy, \"../../videos/simple_grid_world/lstd.mp4\", simple_env, HORIZON)\n",
    "\n",
    "\n",
    "V_lstd = Q_lstd.max(axis=1)\n",
    "img = simple_env.get_layout_img(V_lstd)    \n",
    "plt.imshow(img)\n",
    "plt.show()"
   ]
  }
 ],
 "metadata": {
  "interpreter": {
   "hash": "5f758ad8e5e9cb73d1ab62c182866944e1d4dbba00f99109599dd23e4b5a5cd7"
  },
  "kernelspec": {
   "display_name": "Python 3.10.1 64-bit ('env_container': venv)",
   "language": "python",
   "name": "python3"
  },
  "language_info": {
   "codemirror_mode": {
    "name": "ipython",
    "version": 3
   },
   "file_extension": ".py",
   "mimetype": "text/x-python",
   "name": "python",
   "nbconvert_exporter": "python",
   "pygments_lexer": "ipython3",
   "version": "3.10.1"
  },
  "orig_nbformat": 4
 },
 "nbformat": 4,
 "nbformat_minor": 2
}
