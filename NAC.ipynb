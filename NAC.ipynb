{
 "cells": [
  {
   "cell_type": "markdown",
   "metadata": {},
   "source": [
    "## Setup environment"
   ]
  },
  {
   "cell_type": "code",
   "execution_count": 4,
   "metadata": {},
   "outputs": [],
   "source": [
    "from simulators.grid_world.grid_world import Maze\n",
    "from simulators.grid_world.metrics import compute_bad_steps\n",
    "\n",
    "grid_type = \"simple\"\n",
    "\n",
    "feature_type = \"one_hot\"\n",
    "dimensions = 124\n",
    "sigma = None\n",
    "\n",
    "# feature_type = \"simularity\"\n",
    "# dimensions = 100\n",
    "# sigma = 0.25\n",
    "\n",
    "n_tries_for_std = 10\n",
    "\n",
    "env = Maze(grid_type, feature_type, dimensions=dimensions, sigma=sigma)"
   ]
  },
  {
   "cell_type": "markdown",
   "metadata": {},
   "source": [
    "### Change reward to granular setting"
   ]
  },
  {
   "cell_type": "code",
   "execution_count": 5,
   "metadata": {},
   "outputs": [],
   "source": [
    "from simulators.grid_world.grid_world import set_granular_reward, set_normilized_reward, divide_reward_by\n",
    "\n",
    "env = set_granular_reward(env)\n",
    "env = set_normilized_reward(env)\n",
    "env = divide_reward_by(env, 10)"
   ]
  },
  {
   "cell_type": "markdown",
   "metadata": {},
   "source": [
    "## NAC"
   ]
  },
  {
   "cell_type": "markdown",
   "metadata": {},
   "source": [
    "#### Check when a lot of samples are given"
   ]
  },
  {
   "cell_type": "code",
   "execution_count": 47,
   "metadata": {},
   "outputs": [
    {
     "data": {
      "image/png": "[encoded data removed]",
      "text/plain": [
       "<Figure size 432x288 with 1 Axes>"
      ]
     },
     "metadata": {
      "needs_background": "light"
     },
     "output_type": "display_data"
    },
    {
     "data": {
      "image/png": "[encoded data removed]",
      "text/plain": [
       "<Figure size 432x288 with 1 Axes>"
      ]
     },
     "metadata": {
      "needs_background": "light"
     },
     "output_type": "display_data"
    },
    {
     "name": "stdout",
     "output_type": "stream",
     "text": [
      "Number of bad policy: 0\n"
     ]
    }
   ],
   "source": [
    "# from algorithms.NAC.nac import nac\n",
    "\n",
    "entropy_weight = 0.1\n",
    "n_expert_samples = 150\n",
    "n_expert_iterations = 50\n",
    "n_rl_iterations = 0\n",
    "batch_size = 10\n",
    "update_target_frequency = 10\n",
    "show_args = {\"show_policy\":True, \"show_value_function\": False, \"show_statistics\": False, \"display_frequency\": (n_expert_iterations + n_rl_iterations) / 2}\n",
    "\n",
    "\n",
    "NAC_Q, NAC_policy = nac(\n",
    "    env,\n",
    "    entropy_weight, \n",
    "    n_expert_samples, \n",
    "    n_expert_iterations, \n",
    "    n_rl_iterations, \n",
    "    batch_size,\n",
    "    update_target_frequency,\n",
    "    **show_args,\n",
    ")\n",
    "print(\"Number of bad policy:\", compute_bad_steps(env, NAC_policy))"
   ]
  },
  {
   "cell_type": "markdown",
   "metadata": {},
   "source": [
    "#### Experiment the real algorithm"
   ]
  },
  {
   "cell_type": "code",
   "execution_count": 115,
   "metadata": {},
   "outputs": [],
   "source": [
    "import numpy as np\n",
    "import torch\n",
    "import torch.nn as nn\n",
    "from torch.distributions.categorical import Categorical\n",
    "\n",
    "\n",
    "class SmallNAC(nn.Module):\n",
    "    def __init__(self, env, entropy_weight):\n",
    "        super(SmallNAC, self).__init__()\n",
    "        self.env = env\n",
    "        self.entropy_weight = entropy_weight\n",
    "\n",
    "        self.net = nn.Sequential(\n",
    "            nn.Linear(124, 1), nn.Sigmoid()\n",
    "        )\n",
    "        \n",
    "        self.net[0].weight.data = 0 * torch.ones(self.net[0].weight.data.size())\n",
    "        self.net[0].bias.data = -3.4 * torch.ones(self.net[0].bias.data.size())\n",
    "\n",
    "    def Q(self, state, action):\n",
    "        return 3 * self.net(torch.tensor(self.env.get_feature(state, action), dtype=torch.float32))\n",
    "\n",
    "    def V(self, state):\n",
    "        v_value = 0\n",
    "\n",
    "        for action in self.env._actions:\n",
    "            v_value += torch.exp(self.Q(state, action) / self.entropy_weight)\n",
    "\n",
    "        return self.entropy_weight * torch.log(v_value)\n",
    "\n",
    "    def policy(self, state):\n",
    "        return self.pi_distribution(state).sample()\n",
    "\n",
    "    def pi_distribution(self, state):\n",
    "        pi_actions = torch.zeros((self.env.Na))\n",
    "\n",
    "        for action in self.env._actions:\n",
    "            pi_actions[action] = torch.exp((self.Q(state, action) - self.V(state)) / self.entropy_weight)\n",
    "\n",
    "        return Categorical(probs=pi_actions)\n",
    "\n",
    "    def copy_to(self, target_model):\n",
    "        target_model.load_state_dict(self.state_dict())"
   ]
  },
  {
   "cell_type": "code",
   "execution_count": 138,
   "metadata": {},
   "outputs": [],
   "source": [
    "def get_q_learning_loss(batch, model, target_model):\n",
    "    q_learning_loss = 0\n",
    "\n",
    "    for (state, action, reward, next_state) in batch:\n",
    "        # Actor's loss\n",
    "        q_require_grad = model.Q(state, action)\n",
    "\n",
    "        with torch.no_grad():\n",
    "            best_q = - float(\"inf\")\n",
    "            for other_action in env._actions:\n",
    "                q_other_action = target_model.Q(state, other_action)\n",
    "\n",
    "                if q_other_action > best_q:\n",
    "                    best_q = q_other_action\n",
    "        \n",
    "        q_learning_loss += (q_require_grad - (reward + model.env.gamma * best_q))**2\n",
    "\n",
    "    return q_learning_loss\n",
    "    \n",
    "\n",
    "def get_actor_critic_loss(batch, model, target_model):\n",
    "    actor_loss = 0\n",
    "    critic_loss = 0\n",
    "\n",
    "    for (state, action, reward, next_state) in batch:\n",
    "        # Actor's loss\n",
    "        q_require_grad = model.Q(state, action)\n",
    "        v_require_grad = model.V(state)\n",
    "\n",
    "        with torch.no_grad():\n",
    "            v_target = target_model.V(next_state)\n",
    "            entropy = model.pi_distribution(state).entropy()\n",
    "        \n",
    "        actor_loss += (q_require_grad - v_require_grad) * (q_require_grad.detach() - (reward + model.env.gamma * v_target))\n",
    "\n",
    "        # Critic loss\n",
    "        critic_loss += v_require_grad * (v_require_grad.detach() - (reward + model.env.gamma * v_target + model.entropy_weight * entropy))\n",
    "\n",
    "    return actor_loss + critic_loss"
   ]
  },
  {
   "cell_type": "code",
   "execution_count": 139,
   "metadata": {},
   "outputs": [],
   "source": [
    "import matplotlib.pyplot as plt \n",
    "\n",
    "class ReplayBuffer:\n",
    "    def __init__(self, env, n_expert_samples, expert_policy, batch_size):\n",
    "        self.env = env\n",
    "\n",
    "        self.buffer_expert = []\n",
    "        self.buffer_rl = []\n",
    "\n",
    "        if n_expert_samples > 0:  # i.e with Demonstration\n",
    "            self.collect_expert_samples(n_expert_samples, expert_policy)\n",
    "\n",
    "        self.batch_size = batch_size\n",
    "        self.rl_state = self.env.initial_state_distribution\n",
    "        self.terminal = False\n",
    "\n",
    "    def collect_expert_samples(self, n_samples, policy):\n",
    "        for idx_sample in range(n_samples):\n",
    "            state = np.random.choice(self.env._states) if idx_sample != 0 else self.env.initial_state_distribution\n",
    "            self.env.state = state\n",
    "            \n",
    "            action = policy[state]\n",
    "\n",
    "            next_state, reward, _, _ = self.env.step(action)\n",
    "\n",
    "            self.buffer_expert.append((state, action, reward, next_state))\n",
    "\n",
    "    def collect_rl_sample(self, model):\n",
    "        if self.terminal:\n",
    "            self.rl_state = np.random.choice(self.env._states)\n",
    "        self.env.state = self.rl_state\n",
    "\n",
    "        action = model.policy(self.env.state).detach().numpy()\n",
    "\n",
    "        next_state, reward, self.terminal, _ = self.env.step(action)\n",
    "\n",
    "        self.buffer_rl.append((self.rl_state, action, reward, next_state))\n",
    "        self.rl_state = next_state\n",
    "    \n",
    "    def get_batch(self, from_expert=True):\n",
    "        if from_expert:\n",
    "            return [self.buffer_expert[np.random.choice(range(len(self.buffer_expert)))] for _ in range(self.batch_size)]\n",
    "        else:\n",
    "            return [self.buffer_rl[np.random.choice(range(len(self.buffer_rl)))] for _ in range(self.batch_size)]\n",
    "\n",
    "    def display_statistics(self, from_expert):\n",
    "        number_occurences = np.zeros(self.env.S)\n",
    "\n",
    "        if from_expert:\n",
    "            for (state, _, _, _) in self.buffer_expert:\n",
    "                number_occurences[state] += 1\n",
    "        else:\n",
    "            for (state, _, _, _) in self.buffer_rl:\n",
    "                number_occurences[state] += 1       \n",
    "\n",
    "        img = self.env.get_layout_img(number_occurences)\n",
    "        plt.figure()\n",
    "        plt.title(\"Statistics on occurences\")\n",
    "        plt.imshow(img)\n",
    "        plt.show()"
   ]
  },
  {
   "cell_type": "code",
   "execution_count": 140,
   "metadata": {},
   "outputs": [],
   "source": [
    "import numpy as np\n",
    "\n",
    "\n",
    "def nac(env, loss_name, entropy_weight, n_expert_samples, n_expert_iterations, n_rl_iterations, batch_size, update_target_frequency, show_policy=False, show_value_function=False, show_statistics=False, display_frequency=1):\n",
    "    # from algorithms.NAC.replay_buffer import ReplayBuffer\n",
    "    # from algorithms.NAC.model import SmallNAC\n",
    "\n",
    "    if n_expert_samples > 0:\n",
    "        from algorithms.VI_dynamic_programming import value_iteration\n",
    "\n",
    "        _, expert_policy = value_iteration(env.P, env.R, env.gamma)\n",
    "    else:\n",
    "        expert_policy = None\n",
    "    \n",
    "    replay_buffer = ReplayBuffer(\n",
    "        env,\n",
    "        n_expert_samples,\n",
    "        expert_policy,\n",
    "        batch_size,\n",
    "    )\n",
    "    model = SmallNAC(env, entropy_weight)\n",
    "    target_model = SmallNAC(env, entropy_weight)\n",
    "    model.copy_to(target_model)\n",
    "\n",
    "    if loss_name == \"q_learning\":\n",
    "        get_loss = get_q_learning_loss\n",
    "    elif loss_name == \"actor_critic\":\n",
    "        get_loss = get_actor_critic_loss\n",
    "\n",
    "    optimizer = torch.optim.SGD(model.parameters(), lr=0.1)\n",
    "\n",
    "    for iteration in range(1, n_expert_iterations + n_rl_iterations + 1):\n",
    "        from_expert = True if iteration <= n_expert_iterations else False\n",
    "\n",
    "        if iteration > n_expert_iterations:\n",
    "            optimizer.param_groups[0]['lr'] = 1e-3\n",
    "\n",
    "        if not from_expert:\n",
    "            replay_buffer.collect_rl_sample(model)\n",
    "\n",
    "        batch = replay_buffer.get_batch(from_expert=from_expert)\n",
    "\n",
    "        if show_statistics and iteration % display_frequency == 0:\n",
    "            replay_buffer.display_statistics(from_expert)\n",
    "\n",
    "        loss = get_loss(batch, model, target_model)\n",
    "\n",
    "        optimizer.zero_grad()\n",
    "        loss.backward()\n",
    "        optimizer.step()\n",
    "        \n",
    "        if show_value_function and iteration % display_frequency == 0:\n",
    "            value_function = np.zeros((env.Ns))\n",
    "\n",
    "            for state in env._states:\n",
    "                value_function[state] = model.V(state)\n",
    "            env.display_value_function(value_function, from_value=True)\n",
    "        if (show_policy and iteration % display_frequency == 0) or iteration == n_expert_iterations + 1:\n",
    "            if iteration == n_expert_iterations + 1:\n",
    "                print(\"End expert iterations\")\n",
    "            policy = np.zeros((env.Ns))\n",
    "\n",
    "            for state in env._states:\n",
    "                policy[state] = np.argmax(model.pi_distribution(state).probs.detach().numpy())\n",
    "            env.display_policy(policy, from_pi=True)\n",
    "\n",
    "        if iteration % update_target_frequency == 0:\n",
    "            model.copy_to(target_model)\n",
    "\n",
    "    policy = np.zeros((env.Ns), dtype=int)\n",
    "\n",
    "    for state in env._states:\n",
    "        policy[state] = np.argmax(model.pi_distribution(state).probs.detach().numpy())\n",
    "        \n",
    "    return model, policy"
   ]
  },
  {
   "cell_type": "code",
   "execution_count": 141,
   "metadata": {},
   "outputs": [
    {
     "name": "stderr",
     "output_type": "stream",
     "text": [
      "  0%|          | 0/1 [00:00<?, ?it/s]"
     ]
    },
    {
     "name": "stdout",
     "output_type": "stream",
     "text": [
      "End expert iterations\n"
     ]
    },
    {
     "data": {
      "image/png": "[encoded data removed]",
      "text/plain": [
       "<Figure size 432x288 with 1 Axes>"
      ]
     },
     "metadata": {
      "needs_background": "light"
     },
     "output_type": "display_data"
    },
    {
     "data": {
      "image/png": "[encoded data removed]",
      "text/plain": [
       "<Figure size 432x288 with 1 Axes>"
      ]
     },
     "metadata": {
      "needs_background": "light"
     },
     "output_type": "display_data"
    },
    {
     "data": {
      "image/png": "[encoded data removed]",
      "text/plain": [
       "<Figure size 432x288 with 1 Axes>"
      ]
     },
     "metadata": {
      "needs_background": "light"
     },
     "output_type": "display_data"
    },
    {
     "data": {
      "image/png": "[encoded data removed]",
      "text/plain": [
       "<Figure size 432x288 with 1 Axes>"
      ]
     },
     "metadata": {
      "needs_background": "light"
     },
     "output_type": "display_data"
    },
    {
     "data": {
      "image/png": "[encoded data removed]",
      "text/plain": [
       "<Figure size 432x288 with 1 Axes>"
      ]
     },
     "metadata": {
      "needs_background": "light"
     },
     "output_type": "display_data"
    },
    {
     "name": "stderr",
     "output_type": "stream",
     "text": [
      "100%|██████████| 1/1 [00:24<00:00, 24.57s/it]"
     ]
    },
    {
     "name": "stdout",
     "output_type": "stream",
     "text": [
      "Bad policy: 10\n",
      "Bad policies: 10.0 +- 0.0\n",
      "Average time 24.569 +- 0.0\n"
     ]
    },
    {
     "name": "stderr",
     "output_type": "stream",
     "text": [
      "\n"
     ]
    }
   ],
   "source": [
    "import time \n",
    "import numpy as np\n",
    "\n",
    "from tqdm import tqdm \n",
    "# from algorithms.NAC.nac import nac\n",
    "\n",
    "loss_name = \"actor_critic\"\n",
    "entropy_weight = 0.1\n",
    "n_expert_samples = 20\n",
    "n_expert_iterations = 10\n",
    "n_rl_iterations = 500\n",
    "batch_size = 10\n",
    "update_target_frequency = 20\n",
    "show_args = {\"show_policy\":True, \"show_value_function\": False, \"show_statistics\": True, \"display_frequency\": (n_expert_iterations + n_rl_iterations) / 2}\n",
    "\n",
    "time_algorithm = []\n",
    "bad_policies = []\n",
    "\n",
    "for n_try in tqdm(range(1)):\n",
    "    time_begin = time.time()\n",
    "    NAC_Q, NAC_policy = nac(\n",
    "        env,\n",
    "        loss_name,\n",
    "        entropy_weight, \n",
    "        n_expert_samples, \n",
    "        n_expert_iterations, \n",
    "        n_rl_iterations, \n",
    "        batch_size,\n",
    "        update_target_frequency,\n",
    "        **show_args,\n",
    "    )\n",
    "    time_algorithm.append(time.time() - time_begin)\n",
    "    bad_policy = compute_bad_steps(env, NAC_policy)\n",
    "    print(f\"Bad policy: {bad_policy}\")\n",
    "    bad_policies.append(bad_policy)\n",
    "\n",
    "print(f\"Bad policies: {np.around(np.mean(bad_policies), 3)} +- {np.around(np.std(bad_policies), 3)}\")\n",
    "print(f\"Average time {np.around(np.mean(time_algorithm), 3)} +- {np.around(np.std(time_algorithm), 3)}\")"
   ]
  }
 ],
 "metadata": {
  "interpreter": {
   "hash": "5f758ad8e5e9cb73d1ab62c182866944e1d4dbba00f99109599dd23e4b5a5cd7"
  },
  "kernelspec": {
   "display_name": "Python 3.9.9 64-bit ('env_container': venv)",
   "language": "python",
   "name": "python3"
  },
  "language_info": {
   "codemirror_mode": {
    "name": "ipython",
    "version": 3
   },
   "file_extension": ".py",
   "mimetype": "text/x-python",
   "name": "python",
   "nbconvert_exporter": "python",
   "pygments_lexer": "ipython3",
   "version": "3.9.9"
  },
  "orig_nbformat": 4
 },
 "nbformat": 4,
 "nbformat_minor": 2
}
