{
 "cells": [
  {
   "cell_type": "markdown",
   "metadata": {},
   "source": [
    "## Setup environment"
   ]
  },
  {
   "cell_type": "code",
   "execution_count": 1,
   "metadata": {},
   "outputs": [],
   "source": [
    "from simulators.grid_world.grid_world import Maze\n",
    "from simulators.grid_world.metrics import compute_bad_steps\n",
    "\n",
    "grid_type = \"simple\"\n",
    "\n",
    "feature_type = None\n",
    "dimensions = None\n",
    "sigma = None\n",
    "\n",
    "# feature_type = \"similarity\"\n",
    "# dimensions = 100\n",
    "# sigma = 0.25\n",
    "\n",
    "n_tries_for_std = 10\n",
    "\n",
    "env = Maze(grid_type, feature_type, dimensions=dimensions, sigma=sigma)"
   ]
  },
  {
   "cell_type": "markdown",
   "metadata": {},
   "source": [
    "### Change reward to granular setting"
   ]
  },
  {
   "cell_type": "code",
   "execution_count": 3,
   "metadata": {},
   "outputs": [],
   "source": [
    "from simulators.grid_world.grid_world import set_granular_reward, set_normilized_reward, divide_reward_by\n",
    "\n",
    "env = set_granular_reward(env)\n",
    "env = set_normilized_reward(env)\n",
    "env = divide_reward_by(env, 10)"
   ]
  },
  {
   "cell_type": "markdown",
   "metadata": {},
   "source": [
    "## DQfD"
   ]
  },
  {
   "cell_type": "markdown",
   "metadata": {},
   "source": [
    "#### Try with logs and plots"
   ]
  },
  {
   "cell_type": "code",
   "execution_count": 3,
   "metadata": {},
   "outputs": [
    {
     "name": "stdout",
     "output_type": "stream",
     "text": [
      "End of expert phase\n"
     ]
    },
    {
     "data": {
      "image/png": "[encoded data removed]",
      "text/plain": [
       "<Figure size 432x288 with 1 Axes>"
      ]
     },
     "metadata": {
      "needs_background": "light"
     },
     "output_type": "display_data"
    },
    {
     "name": "stdout",
     "output_type": "stream",
     "text": [
      "Beginning of rl phase\n"
     ]
    },
    {
     "data": {
      "image/png": "[encoded data removed]",
      "text/plain": [
       "<Figure size 432x288 with 1 Axes>"
      ]
     },
     "metadata": {
      "needs_background": "light"
     },
     "output_type": "display_data"
    },
    {
     "name": "stdout",
     "output_type": "stream",
     "text": [
      "Number of bad policy: 2\n"
     ]
    }
   ],
   "source": [
    "from algorithms.DQfD.tabular import tabular_DQfD\n",
    "\n",
    "n_expert_trajectories = 20\n",
    "n_step_td = 3\n",
    "n_expert_iterations = 40\n",
    "n_rl_iterations = 600\n",
    "epsilon_decay_limit = 1\n",
    "update_target_frequency = 10\n",
    "td_loss_weight = 1\n",
    "n_td_loss_weight = 0\n",
    "expert_weight = 0\n",
    "diff_action_from_expert_penalisation = 1\n",
    "prioritized_buffer = False\n",
    "weight_occurencies = False\n",
    "show_args = {\"show_policy\":True, \"show_value_function\": False, \"show_statistics\": False, \"display_frequency\": (n_expert_iterations + n_rl_iterations) / 2}\n",
    "\n",
    "DQfD_Q, DQfD_policy = tabular_DQfD(\n",
    "    env,\n",
    "    n_expert_trajectories,\n",
    "    n_step_td,\n",
    "    n_expert_iterations,\n",
    "    n_rl_iterations,\n",
    "    epsilon_decay_limit,\n",
    "    update_target_frequency,\n",
    "    td_loss_weight,\n",
    "    n_td_loss_weight,\n",
    "    expert_weight,\n",
    "    diff_action_from_expert_penalisation,\n",
    "    prioritized_buffer,\n",
    "    weight_occurencies,\n",
    "    **show_args,\n",
    ")\n",
    "print(\"Number of bad policy:\", compute_bad_steps(env, DQfD_policy))"
   ]
  },
  {
   "cell_type": "markdown",
   "metadata": {},
   "source": [
    "#### Real algorithm with random sampling"
   ]
  },
  {
   "cell_type": "code",
   "execution_count": 37,
   "metadata": {},
   "outputs": [
    {
     "name": "stderr",
     "output_type": "stream",
     "text": [
      " 10%|█         | 1/10 [00:00<00:01,  5.01it/s]"
     ]
    },
    {
     "name": "stdout",
     "output_type": "stream",
     "text": [
      "End of expert phase\n",
      "Beginning of rl phase\n",
      "Bad policy: 9\n",
      "End of expert phase\n",
      "Beginning of rl phase\n"
     ]
    },
    {
     "name": "stderr",
     "output_type": "stream",
     "text": [
      " 30%|███       | 3/10 [00:00<00:01,  6.33it/s]"
     ]
    },
    {
     "name": "stdout",
     "output_type": "stream",
     "text": [
      "Bad policy: 6\n",
      "End of expert phase\n",
      "Beginning of rl phase\n",
      "Bad policy: 6\n",
      "End of expert phase\n",
      "Beginning of rl phase\n"
     ]
    },
    {
     "name": "stderr",
     "output_type": "stream",
     "text": [
      " 40%|████      | 4/10 [00:00<00:01,  5.21it/s]"
     ]
    },
    {
     "name": "stdout",
     "output_type": "stream",
     "text": [
      "Bad policy: 7\n",
      "End of expert phase\n",
      "Beginning of rl phase\n"
     ]
    },
    {
     "name": "stderr",
     "output_type": "stream",
     "text": [
      " 50%|█████     | 5/10 [00:00<00:01,  4.85it/s]"
     ]
    },
    {
     "name": "stdout",
     "output_type": "stream",
     "text": [
      "Bad policy: 4\n",
      "End of expert phase\n",
      "Beginning of rl phase\n"
     ]
    },
    {
     "name": "stderr",
     "output_type": "stream",
     "text": [
      " 60%|██████    | 6/10 [00:01<00:00,  4.50it/s]"
     ]
    },
    {
     "name": "stdout",
     "output_type": "stream",
     "text": [
      "Bad policy: 5\n",
      "End of expert phase\n",
      "Beginning of rl phase\n"
     ]
    },
    {
     "name": "stderr",
     "output_type": "stream",
     "text": [
      " 70%|███████   | 7/10 [00:01<00:00,  3.98it/s]"
     ]
    },
    {
     "name": "stdout",
     "output_type": "stream",
     "text": [
      "Bad policy: 6\n",
      "End of expert phase\n",
      "Beginning of rl phase\n"
     ]
    },
    {
     "name": "stderr",
     "output_type": "stream",
     "text": [
      " 80%|████████  | 8/10 [00:01<00:00,  4.02it/s]"
     ]
    },
    {
     "name": "stdout",
     "output_type": "stream",
     "text": [
      "Bad policy: 6\n",
      "End of expert phase\n",
      "Beginning of rl phase\n"
     ]
    },
    {
     "name": "stderr",
     "output_type": "stream",
     "text": [
      " 90%|█████████ | 9/10 [00:02<00:00,  3.80it/s]"
     ]
    },
    {
     "name": "stdout",
     "output_type": "stream",
     "text": [
      "Bad policy: 8\n",
      "End of expert phase\n",
      "Beginning of rl phase\n"
     ]
    },
    {
     "name": "stderr",
     "output_type": "stream",
     "text": [
      "100%|██████████| 10/10 [00:02<00:00,  4.29it/s]"
     ]
    },
    {
     "name": "stdout",
     "output_type": "stream",
     "text": [
      "Bad policy: 6\n",
      "Bad policies: 6.3 +- 1.345\n",
      "Average time 0.229 +- 0.051\n"
     ]
    },
    {
     "name": "stderr",
     "output_type": "stream",
     "text": [
      "\n"
     ]
    }
   ],
   "source": [
    "import time \n",
    "import numpy as np\n",
    "\n",
    "from tqdm import tqdm \n",
    "from algorithms.DQfD.tabular import tabular_DQfD\n",
    "\n",
    "n_expert_trajectories = 20\n",
    "n_step_td = 3\n",
    "n_expert_iterations = 0\n",
    "n_rl_iterations = 100\n",
    "epsilon_decay_limit = 1\n",
    "update_target_frequency = 15\n",
    "td_loss_weight = 1\n",
    "n_td_loss_weight = 1\n",
    "expert_weight = 1\n",
    "diff_action_from_expert_penalisation = 0.01\n",
    "prioritized_buffer = True\n",
    "weight_occurencies = True\n",
    "show_args = {\"show_policy\":False, \"show_value_function\": False, \"show_statistics\": False, \"display_frequency\": int(n_rl_iterations / 2)}\n",
    "\n",
    "time_algorithm = []\n",
    "bad_policies = []\n",
    "\n",
    "for n_try in tqdm(range(n_tries_for_std)):\n",
    "    time_begin = time.time()\n",
    "    DQfD_Q, DQfD_policy = tabular_DQfD(\n",
    "        env,\n",
    "        n_expert_trajectories,\n",
    "        n_step_td,\n",
    "        n_expert_iterations,\n",
    "        n_rl_iterations,\n",
    "        epsilon_decay_limit,\n",
    "        update_target_frequency,\n",
    "        td_loss_weight,\n",
    "        n_td_loss_weight,\n",
    "        expert_weight,\n",
    "        diff_action_from_expert_penalisation,\n",
    "        prioritized_buffer,\n",
    "        weight_occurencies,\n",
    "        **show_args,\n",
    "    )\n",
    "    time_algorithm.append(time.time() - time_begin)\n",
    "    bad_policy = compute_bad_steps(env, DQfD_policy)\n",
    "    print(f\"Bad policy: {bad_policy}\")\n",
    "    bad_policies.append(bad_policy)\n",
    "\n",
    "print(f\"Bad policies: {np.around(np.mean(bad_policies), 3)} +- {np.around(np.std(bad_policies), 3)}\")\n",
    "print(f\"Average time {np.around(np.mean(time_algorithm), 3)} +- {np.around(np.std(time_algorithm), 3)}\")"
   ]
  }
 ],
 "metadata": {
  "interpreter": {
   "hash": "5f758ad8e5e9cb73d1ab62c182866944e1d4dbba00f99109599dd23e4b5a5cd7"
  },
  "kernelspec": {
   "display_name": "Python 3.9.9 64-bit ('env_container': venv)",
   "language": "python",
   "name": "python3"
  },
  "language_info": {
   "codemirror_mode": {
    "name": "ipython",
    "version": 3
   },
   "file_extension": ".py",
   "mimetype": "text/x-python",
   "name": "python",
   "nbconvert_exporter": "python",
   "pygments_lexer": "ipython3",
   "version": "3.9.9"
  },
  "orig_nbformat": 4
 },
 "nbformat": 4,
 "nbformat_minor": 2
}
