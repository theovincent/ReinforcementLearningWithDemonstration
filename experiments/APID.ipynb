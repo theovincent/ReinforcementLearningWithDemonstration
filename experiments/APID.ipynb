{
 "cells": [
  {
   "cell_type": "markdown",
   "metadata": {},
   "source": [
    "## Setup environment"
   ]
  },
  {
   "cell_type": "code",
   "execution_count": 1,
   "metadata": {},
   "outputs": [],
   "source": [
    "from simulators.grid_world.grid_world import Maze\n",
    "from simulators.grid_world.metrics import compute_bad_steps\n",
    "\n",
    "grid_type = \"simple\"\n",
    "\n",
    "feature_type = \"one_hot\"\n",
    "dimensions = 124\n",
    "sigma = None\n",
    "\n",
    "# feature_type = \"simularity\"\n",
    "# dimensions = 100\n",
    "# sigma = 0.25\n",
    "\n",
    "n_tries_for_std = 10\n",
    "\n",
    "env = Maze(grid_type, feature_type, dimensions=dimensions, sigma=sigma)"
   ]
  },
  {
   "cell_type": "markdown",
   "metadata": {},
   "source": [
    "### Change reward to granular setting"
   ]
  },
  {
   "cell_type": "code",
   "execution_count": 2,
   "metadata": {},
   "outputs": [],
   "source": [
    "from simulators.grid_world.grid_world import set_granular_reward, set_normilized_reward, divide_reward_by\n",
    "\n",
    "env = set_granular_reward(env)\n",
    "env = set_normilized_reward(env)\n",
    "env = divide_reward_by(env, 10)"
   ]
  },
  {
   "cell_type": "markdown",
   "metadata": {},
   "source": [
    "## LSPI"
   ]
  },
  {
   "cell_type": "markdown",
   "metadata": {},
   "source": [
    "#### Check with only demonstrations"
   ]
  },
  {
   "cell_type": "code",
   "execution_count": 5,
   "metadata": {},
   "outputs": [
    {
     "data": {
      "image/png": "[encoded data removed]",
      "text/plain": [
       "<Figure size 432x288 with 1 Axes>"
      ]
     },
     "metadata": {
      "needs_background": "light"
     },
     "output_type": "display_data"
    },
    {
     "data": {
      "image/png": "[encoded data removed]",
      "text/plain": [
       "<Figure size 432x288 with 1 Axes>"
      ]
     },
     "metadata": {
      "needs_background": "light"
     },
     "output_type": "display_data"
    },
    {
     "name": "stdout",
     "output_type": "stream",
     "text": [
      "Number of bad policy: 0\n"
     ]
    }
   ],
   "source": [
    "from algorithms.API.lstd import lstd_grid_word\n",
    "\n",
    "n_expert_samples = 200\n",
    "n_rl_samples = 0\n",
    "regularisor = 0.1\n",
    "regularisor_bellmann = 0.1\n",
    "max_iteration = 2\n",
    "epsilon_decay_limit = None\n",
    "regularisor_expert = 0  # make LSPI\n",
    "# expert_loss_name = \"penalizer\"\n",
    "# expert_penality = 0.15\n",
    "expert_loss_name = None\n",
    "expert_penality = None\n",
    "\n",
    "show_args = {\"show_policy\":True, \"show_value_function\": False, \"show_statistics\": False}\n",
    "\n",
    "lspi_Q, lspi_policy = lstd_grid_word(\n",
    "    env,\n",
    "    n_expert_samples,\n",
    "    n_rl_samples,\n",
    "    regularisor,\n",
    "    regularisor_bellmann,\n",
    "    max_iteration,\n",
    "    epsilon_decay_limit,\n",
    "    regularisor_expert,\n",
    "    expert_loss_name,\n",
    "    expert_penality,\n",
    "    **show_args\n",
    ")\n",
    "print(\"Number of bad policy:\", compute_bad_steps(env, lspi_policy))"
   ]
  },
  {
   "cell_type": "markdown",
   "metadata": {},
   "source": [
    "#### Compute real algorithm"
   ]
  },
  {
   "cell_type": "code",
   "execution_count": 5,
   "metadata": {},
   "outputs": [
    {
     "name": "stderr",
     "output_type": "stream",
     "text": [
      "100%|██████████| 10/10 [00:03<00:00,  2.93it/s]"
     ]
    },
    {
     "name": "stdout",
     "output_type": "stream",
     "text": [
      "Bad policies: 10.9 +- 2.587\n",
      "Average time 0.337 +- 0.037\n"
     ]
    },
    {
     "name": "stderr",
     "output_type": "stream",
     "text": [
      "\n"
     ]
    }
   ],
   "source": [
    "import time \n",
    "import numpy as np\n",
    "\n",
    "from tqdm import tqdm \n",
    "from algorithms.API.lstd import lstd_grid_word\n",
    "\n",
    "n_expert_samples = 20\n",
    "n_rl_samples = 100\n",
    "regularisor = 0.1\n",
    "regularisor_bellmann = 0.1\n",
    "max_iteration = 10\n",
    "epsilon_decay_limit = 0\n",
    "regularisor_expert = 0  # make LSPI\n",
    "# expert_loss_name = \"large_margin\"\n",
    "# expert_loss_name = \"penalizer\"\n",
    "# expert_penality = 0.15\n",
    "expert_loss_name = None\n",
    "expert_penality = None\n",
    "\n",
    "show_args = {\"show_policy\":False, \"show_value_function\": False, \"show_statistics\": False}\n",
    "\n",
    "time_algorithm = []\n",
    "bad_policies = []\n",
    "\n",
    "for n_try in tqdm(range(n_tries_for_std)):\n",
    "    time_begin = time.time()\n",
    "    lspi_Q, lspi_policy = lstd_grid_word(\n",
    "        env,\n",
    "        n_expert_samples,\n",
    "        n_rl_samples,\n",
    "        regularisor,\n",
    "        regularisor_bellmann,\n",
    "        max_iteration,\n",
    "        epsilon_decay_limit,\n",
    "        regularisor_expert,\n",
    "        expert_loss_name,\n",
    "        expert_penality,\n",
    "        **show_args\n",
    "    )\n",
    "    time_algorithm.append(time.time() - time_begin)\n",
    "    bad_policies.append(compute_bad_steps(env, lspi_policy))\n",
    "\n",
    "print(f\"Bad policies: {np.around(np.mean(bad_policies), 3)} +- {np.around(np.std(bad_policies), 3)}\")\n",
    "print(f\"Average time {np.around(np.mean(time_algorithm), 3)} +- {np.around(np.std(time_algorithm), 3)}\")"
   ]
  },
  {
   "cell_type": "markdown",
   "metadata": {},
   "source": [
    "## APID"
   ]
  },
  {
   "cell_type": "markdown",
   "metadata": {},
   "source": [
    "#### Use of the penalizer loss"
   ]
  },
  {
   "cell_type": "code",
   "execution_count": 9,
   "metadata": {},
   "outputs": [
    {
     "name": "stderr",
     "output_type": "stream",
     "text": [
      "  0%|          | 0/10 [00:00<?, ?it/s]"
     ]
    },
    {
     "name": "stdout",
     "output_type": "stream",
     "text": [
      "! Warning ! Stopped before convergence\n",
      "Grad norm 0.011810341763857351\n",
      "! Warning ! Stopped before convergence\n",
      "Grad norm 0.013287669165788095\n",
      "! Warning ! Stopped before convergence\n",
      "Grad norm 0.019411982492751972\n",
      "! Warning ! Stopped before convergence\n",
      "Grad norm 0.017770177036523775\n",
      "! Warning ! Stopped before convergence\n",
      "Grad norm 0.022607899422010195\n",
      "! Warning ! Stopped before convergence\n",
      "Grad norm 0.02177803089659469\n",
      "! Warning ! Stopped before convergence\n",
      "Grad norm 0.013435105620568245\n",
      "! Warning ! Stopped before convergence\n",
      "Grad norm 0.012588368445185166\n"
     ]
    },
    {
     "name": "stderr",
     "output_type": "stream",
     "text": [
      " 10%|█         | 1/10 [00:29<04:21, 29.01s/it]"
     ]
    },
    {
     "name": "stdout",
     "output_type": "stream",
     "text": [
      "! Warning ! Stopped before convergence\n",
      "Grad norm 0.018550248244137924\n",
      "10\n",
      "! Warning ! Stopped before convergence\n",
      "Grad norm 0.016454957256068842\n",
      "! Warning ! Stopped before convergence\n",
      "Grad norm 0.015483323888172496\n",
      "! Warning ! Stopped before convergence\n",
      "Grad norm 0.026711045754247917\n",
      "! Warning ! Stopped before convergence\n",
      "Grad norm 0.016046261698917135\n",
      "! Warning ! Stopped before convergence\n",
      "Grad norm 0.014601935268881507\n",
      "! Warning ! Stopped before convergence\n",
      "Grad norm 0.014023621677131268\n",
      "! Warning ! Stopped before convergence\n",
      "Grad norm 0.0157181227413839\n",
      "! Warning ! Stopped before convergence\n",
      "Grad norm 0.014187337133463353\n"
     ]
    },
    {
     "name": "stderr",
     "output_type": "stream",
     "text": [
      " 20%|██        | 2/10 [00:53<03:28, 26.06s/it]"
     ]
    },
    {
     "name": "stdout",
     "output_type": "stream",
     "text": [
      "! Warning ! Stopped before convergence\n",
      "Grad norm 0.020193924028927616\n",
      "8\n"
     ]
    },
    {
     "name": "stderr",
     "output_type": "stream",
     "text": [
      " 20%|██        | 2/10 [00:54<03:36, 27.10s/it]\n"
     ]
    },
    {
     "ename": "KeyboardInterrupt",
     "evalue": "",
     "output_type": "error",
     "traceback": [
      "\u001b[0;31m---------------------------------------------------------------------------\u001b[0m",
      "\u001b[0;31mKeyboardInterrupt\u001b[0m                         Traceback (most recent call last)",
      "\u001b[0;32m/tmp/ipykernel_27409/3941378368.py\u001b[0m in \u001b[0;36m<module>\u001b[0;34m\u001b[0m\n\u001b[1;32m     24\u001b[0m \u001b[0;32mfor\u001b[0m \u001b[0mn_try\u001b[0m \u001b[0;32min\u001b[0m \u001b[0mtqdm\u001b[0m\u001b[0;34m(\u001b[0m\u001b[0mrange\u001b[0m\u001b[0;34m(\u001b[0m\u001b[0mn_tries_for_std\u001b[0m\u001b[0;34m)\u001b[0m\u001b[0;34m)\u001b[0m\u001b[0;34m:\u001b[0m\u001b[0;34m\u001b[0m\u001b[0;34m\u001b[0m\u001b[0m\n\u001b[1;32m     25\u001b[0m     \u001b[0mtime_begin\u001b[0m \u001b[0;34m=\u001b[0m \u001b[0mtime\u001b[0m\u001b[0;34m.\u001b[0m\u001b[0mtime\u001b[0m\u001b[0;34m(\u001b[0m\u001b[0;34m)\u001b[0m\u001b[0;34m\u001b[0m\u001b[0;34m\u001b[0m\u001b[0m\n\u001b[0;32m---> 26\u001b[0;31m     lspi_Q, lspi_policy = lstd_grid_word(\n\u001b[0m\u001b[1;32m     27\u001b[0m         \u001b[0menv\u001b[0m\u001b[0;34m,\u001b[0m\u001b[0;34m\u001b[0m\u001b[0;34m\u001b[0m\u001b[0m\n\u001b[1;32m     28\u001b[0m         \u001b[0mn_expert_samples\u001b[0m\u001b[0;34m,\u001b[0m\u001b[0;34m\u001b[0m\u001b[0;34m\u001b[0m\u001b[0m\n",
      "\u001b[0;32m/workspaces/ReinforcementLearningWithDemonstration/algorithms/API/lstd.py\u001b[0m in \u001b[0;36mlstd_grid_word\u001b[0;34m(env, n_expert_samples, n_rl_samples, regularisor, regularisor_bellmann, max_iteration, epsilon_decay_limit, regularisor_expert, expert_loss_name, expert_penality, show_policy, show_value_function, show_statistics)\u001b[0m\n\u001b[1;32m     60\u001b[0m \u001b[0;34m\u001b[0m\u001b[0m\n\u001b[1;32m     61\u001b[0m         \u001b[0mu\u001b[0m \u001b[0;34m=\u001b[0m \u001b[0moptimise_u\u001b[0m\u001b[0;34m(\u001b[0m\u001b[0menv\u001b[0m\u001b[0;34m,\u001b[0m \u001b[0msamples_bellman\u001b[0m\u001b[0;34m,\u001b[0m \u001b[0mw\u001b[0m\u001b[0;34m,\u001b[0m \u001b[0mregularisor_bellmann\u001b[0m\u001b[0;34m)\u001b[0m\u001b[0;34m\u001b[0m\u001b[0;34m\u001b[0m\u001b[0m\n\u001b[0;32m---> 62\u001b[0;31m         \u001b[0mw\u001b[0m \u001b[0;34m=\u001b[0m \u001b[0moptimise_w\u001b[0m\u001b[0;34m(\u001b[0m\u001b[0mloss_w\u001b[0m\u001b[0;34m,\u001b[0m \u001b[0mw\u001b[0m\u001b[0;34m,\u001b[0m \u001b[0msamples_bellman\u001b[0m\u001b[0;34m,\u001b[0m \u001b[0msamples_expert\u001b[0m\u001b[0;34m,\u001b[0m \u001b[0mu\u001b[0m\u001b[0;34m,\u001b[0m \u001b[0mlearning_rate\u001b[0m\u001b[0;34m=\u001b[0m\u001b[0;36m1\u001b[0m\u001b[0;34m)\u001b[0m\u001b[0;34m\u001b[0m\u001b[0;34m\u001b[0m\u001b[0m\n\u001b[0m\u001b[1;32m     63\u001b[0m \u001b[0;34m\u001b[0m\u001b[0m\n\u001b[1;32m     64\u001b[0m         \u001b[0;31m# Improvement\u001b[0m\u001b[0;34m\u001b[0m\u001b[0;34m\u001b[0m\u001b[0m\n",
      "\u001b[0;32m/workspaces/ReinforcementLearningWithDemonstration/algorithms/API/optimizers.py\u001b[0m in \u001b[0;36moptimise_w\u001b[0;34m(loss_w, w, samples_bellman, samples_expert, u, learning_rate)\u001b[0m\n\u001b[1;32m     24\u001b[0m \u001b[0;34m\u001b[0m\u001b[0m\n\u001b[1;32m     25\u001b[0m     \u001b[0;32mwhile\u001b[0m \u001b[0mnp\u001b[0m\u001b[0;34m.\u001b[0m\u001b[0mlinalg\u001b[0m\u001b[0;34m.\u001b[0m\u001b[0mnorm\u001b[0m\u001b[0;34m(\u001b[0m\u001b[0mgrad_w\u001b[0m\u001b[0;34m)\u001b[0m \u001b[0;34m>\u001b[0m \u001b[0;36m1e-6\u001b[0m \u001b[0;32mand\u001b[0m \u001b[0mcount\u001b[0m \u001b[0;34m<\u001b[0m \u001b[0;36m1000\u001b[0m\u001b[0;34m:\u001b[0m\u001b[0;34m\u001b[0m\u001b[0;34m\u001b[0m\u001b[0m\n\u001b[0;32m---> 26\u001b[0;31m         \u001b[0mgrad_w\u001b[0m \u001b[0;34m=\u001b[0m \u001b[0mloss_w\u001b[0m\u001b[0;34m.\u001b[0m\u001b[0mgrad\u001b[0m\u001b[0;34m(\u001b[0m\u001b[0mw\u001b[0m\u001b[0;34m,\u001b[0m \u001b[0msamples_expert\u001b[0m\u001b[0;34m,\u001b[0m \u001b[0mu\u001b[0m\u001b[0;34m)\u001b[0m\u001b[0;34m\u001b[0m\u001b[0;34m\u001b[0m\u001b[0m\n\u001b[0m\u001b[1;32m     27\u001b[0m         \u001b[0mw\u001b[0m \u001b[0;34m+=\u001b[0m \u001b[0;34m-\u001b[0m\u001b[0mlearning_rate\u001b[0m \u001b[0;34m*\u001b[0m \u001b[0mgrad_w\u001b[0m\u001b[0;34m\u001b[0m\u001b[0;34m\u001b[0m\u001b[0m\n\u001b[1;32m     28\u001b[0m         \u001b[0mcount\u001b[0m \u001b[0;34m+=\u001b[0m \u001b[0;36m1\u001b[0m\u001b[0;34m\u001b[0m\u001b[0;34m\u001b[0m\u001b[0m\n",
      "\u001b[0;32m/workspaces/ReinforcementLearningWithDemonstration/algorithms/API/losses.py\u001b[0m in \u001b[0;36mgrad\u001b[0;34m(self, w, samples_expert, u)\u001b[0m\n\u001b[1;32m     86\u001b[0m \u001b[0;34m\u001b[0m\u001b[0m\n\u001b[1;32m     87\u001b[0m     \u001b[0;32mdef\u001b[0m \u001b[0mgrad\u001b[0m\u001b[0;34m(\u001b[0m\u001b[0mself\u001b[0m\u001b[0;34m,\u001b[0m \u001b[0mw\u001b[0m\u001b[0;34m,\u001b[0m \u001b[0msamples_expert\u001b[0m\u001b[0;34m,\u001b[0m \u001b[0mu\u001b[0m\u001b[0;34m)\u001b[0m\u001b[0;34m:\u001b[0m\u001b[0;34m\u001b[0m\u001b[0;34m\u001b[0m\u001b[0m\n\u001b[0;32m---> 88\u001b[0;31m         \u001b[0mgrad_bellman\u001b[0m \u001b[0;34m=\u001b[0m \u001b[0mself\u001b[0m\u001b[0;34m.\u001b[0m\u001b[0mfeatures_T_features\u001b[0m \u001b[0;34m@\u001b[0m \u001b[0;34m(\u001b[0m\u001b[0mw\u001b[0m \u001b[0;34m-\u001b[0m \u001b[0mu\u001b[0m\u001b[0;34m)\u001b[0m\u001b[0;34m\u001b[0m\u001b[0;34m\u001b[0m\u001b[0m\n\u001b[0m\u001b[1;32m     89\u001b[0m \u001b[0;34m\u001b[0m\u001b[0m\n\u001b[1;32m     90\u001b[0m         \u001b[0mgrad_expert\u001b[0m \u001b[0;34m=\u001b[0m \u001b[0;36m0\u001b[0m\u001b[0;34m\u001b[0m\u001b[0;34m\u001b[0m\u001b[0m\n",
      "\u001b[0;31mKeyboardInterrupt\u001b[0m: "
     ]
    }
   ],
   "source": [
    "import time \n",
    "import numpy as np\n",
    "\n",
    "from tqdm import tqdm \n",
    "from algorithms.API.lstd import lstd_grid_word\n",
    "\n",
    "n_expert_samples = 20\n",
    "n_rl_samples = 100\n",
    "regularisor = 0.1\n",
    "regularisor_bellmann = 0.1\n",
    "max_iteration = 10\n",
    "epsilon_decay_limit = 0\n",
    "regularisor_expert = 0.1\n",
    "expert_loss_name = \"penalizer\"\n",
    "expert_penality = 0.01\n",
    "# expert_loss_name = None\n",
    "# expert_penality = None\n",
    "\n",
    "show_args = {\"show_policy\":False, \"show_value_function\": False, \"show_statistics\": False}\n",
    "\n",
    "time_algorithm = []\n",
    "bad_policies = []\n",
    "\n",
    "for n_try in tqdm(range(n_tries_for_std)):\n",
    "    time_begin = time.time()\n",
    "    lspi_Q, lspi_policy = lstd_grid_word(\n",
    "        env,\n",
    "        n_expert_samples,\n",
    "        n_rl_samples,\n",
    "        regularisor,\n",
    "        regularisor_bellmann,\n",
    "        max_iteration,\n",
    "        epsilon_decay_limit,\n",
    "        regularisor_expert,\n",
    "        expert_loss_name,\n",
    "        expert_penality,\n",
    "        **show_args\n",
    "    )\n",
    "    time_algorithm.append(time.time() - time_begin)\n",
    "    bad_policy = compute_bad_steps(env, lspi_policy)\n",
    "    print(bad_policy)\n",
    "    bad_policies.append(bad_policy)\n",
    "\n",
    "print(f\"Bad policies: {np.around(np.mean(bad_policies), 3)} +- {np.around(np.std(bad_policies), 3)}\")\n",
    "print(f\"Average time {np.around(np.mean(time_algorithm), 3)} +- {np.around(np.std(time_algorithm), 3)}\")"
   ]
  }
 ],
 "metadata": {
  "interpreter": {
   "hash": "5f758ad8e5e9cb73d1ab62c182866944e1d4dbba00f99109599dd23e4b5a5cd7"
  },
  "kernelspec": {
   "display_name": "Python 3.10.1 64-bit ('env_container': venv)",
   "language": "python",
   "name": "python3"
  },
  "language_info": {
   "codemirror_mode": {
    "name": "ipython",
    "version": 3
   },
   "file_extension": ".py",
   "mimetype": "text/x-python",
   "name": "python",
   "nbconvert_exporter": "python",
   "pygments_lexer": "ipython3",
   "version": "3.9.9"
  },
  "orig_nbformat": 4
 },
 "nbformat": 4,
 "nbformat_minor": 2
}
